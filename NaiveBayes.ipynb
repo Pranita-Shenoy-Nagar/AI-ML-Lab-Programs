{
 "cells": [
  {
   "cell_type": "code",
   "execution_count": 5,
   "id": "884137df",
   "metadata": {},
   "outputs": [],
   "source": [
    "def probAttr(data,attr,val):\n",
    "    Total=data.shape[0]\n",
    "    cnt=len(data[data[attr]==val])\n",
    "    return cnt,cnt/Total\n",
    "def train(data,Attr,conceptVals,concept):\n",
    "    conceptProbs={}\n",
    "    countConcept={}\n",
    "    for cVal in conceptVals:\n",
    "        countConcept[cVal],conceptProbs[cVal]=probAttr(data,concept,cVal)\n",
    "    AttrConcept={}\n",
    "    probability_list={}\n",
    "    for att in Attr:\n",
    "        probability_list[att]={}\n",
    "        AttrConcept[att]={}\n",
    "        for val in Attr[att]:\n",
    "            AttrConcept[att][val]={}\n",
    "            a,probability_list[att][val]=probAttr(data,att,val)\n",
    "            for cVal in conceptVals:\n",
    "                dataTemp=data[data[att]==val]\n",
    "                AttrConcept[att][val][cVal]=len(dataTemp[dataTemp[concept]==cVal])/countConcept[cVal]\n",
    "    print(f\"P(A):{conceptProbs}\\n\")\n",
    "    print(f\"P(X/A):{AttrConcept}\\n\")\n",
    "    print(f\"P(X):{probability_list}\\n\")\n",
    "    return conceptProbs,AttrConcept,probability_list"
   ]
  },
  {
   "cell_type": "code",
   "execution_count": 6,
   "id": "25b2eaf6",
   "metadata": {},
   "outputs": [],
   "source": [
    "def test(examples,Attr,concept_list,conceptProbs,AttrConcept,probability_list):\n",
    "    misclassification_count=0\n",
    "    Total=len(examples)\n",
    "    for ex in examples:\n",
    "        px={}\n",
    "        for a in Attr:\n",
    "            for x in ex:\n",
    "                for c in concept_list:\n",
    "                    if x in AttrConcept[a]:\n",
    "                        if c not in px:\n",
    "                            px[c]=conceptProbs[c]*AttrConcept[a][x][c]/probability_list[a][x]\n",
    "                        else:\n",
    "                            px[c]=px[c]*AttrConcept[a][x][c]/probability_list[a][x]\n",
    "        print(px)\n",
    "        classification=max(px,key=px.get)\n",
    "        print(f\"classification:{classification}Expected:{ex[-1]}\")\n",
    "        if(classification!=ex[-1]):\n",
    "            misclassification_count+=1\n",
    "    misclassification_rate=misclassification_count*100/Total\n",
    "    accuracy=100-misclassification_rate\n",
    "    print(f\"Misclassification_count={misclassification_count}\")\n",
    "    print(f\"Misclassification_rate={misclassification_rate}%\")\n",
    "    print(f\"Accuracy={accuracy}%\")"
   ]
  },
  {
   "cell_type": "code",
   "execution_count": 7,
   "id": "4da6e93a",
   "metadata": {},
   "outputs": [
    {
     "name": "stdout",
     "output_type": "stream",
     "text": [
      "Outlook:{'Overcast', 'Sunny', 'Rain'}\n",
      "Temperature:{'Hot', 'Mild', 'Cool'}\n",
      "Humidity:{'High', 'Normal'}\n",
      "Wind:{'Strong', 'Weak'}\n",
      "P(A):{'Yes': 0.6428571428571429, 'No': 0.35714285714285715}\n",
      "\n",
      "P(X/A):{'Outlook': {'Overcast': {'Yes': 0.4444444444444444, 'No': 0.0}, 'Sunny': {'Yes': 0.2222222222222222, 'No': 0.6}, 'Rain': {'Yes': 0.3333333333333333, 'No': 0.4}}, 'Temperature': {'Hot': {'Yes': 0.2222222222222222, 'No': 0.4}, 'Mild': {'Yes': 0.4444444444444444, 'No': 0.4}, 'Cool': {'Yes': 0.3333333333333333, 'No': 0.2}}, 'Humidity': {'High': {'Yes': 0.3333333333333333, 'No': 0.8}, 'Normal': {'Yes': 0.6666666666666666, 'No': 0.2}}, 'Wind': {'Strong': {'Yes': 0.3333333333333333, 'No': 0.6}, 'Weak': {'Yes': 0.6666666666666666, 'No': 0.4}}}\n",
      "\n",
      "P(X):{'Outlook': {'Overcast': 0.2857142857142857, 'Sunny': 0.35714285714285715, 'Rain': 0.35714285714285715}, 'Temperature': {'Hot': 0.2857142857142857, 'Mild': 0.42857142857142855, 'Cool': 0.2857142857142857}, 'Humidity': {'High': 0.5, 'Normal': 0.5}, 'Wind': {'Strong': 0.42857142857142855, 'Weak': 0.5714285714285714}}\n",
      "\n",
      "{'Yes': 0.2419753086419753, 'No': 0.9408000000000002}\n",
      "classification:NoExpected:No\n",
      "{'Yes': 0.16131687242798354, 'No': 1.8816000000000002}\n",
      "classification:NoExpected:No\n",
      "{'Yes': 0.6049382716049383, 'No': 0.0}\n",
      "classification:YesExpected:Yes\n",
      "{'Yes': 0.4839506172839506, 'No': 0.4181333333333335}\n",
      "classification:YesExpected:Yes\n",
      "{'Yes': 1.0888888888888888, 'No': 0.07840000000000004}\n",
      "classification:YesExpected:Yes\n",
      "{'Yes': 0.7259259259259259, 'No': 0.15680000000000005}\n",
      "classification:YesExpected:No\n",
      "{'Yes': 1.2098765432098766, 'No': 0.0}\n",
      "classification:YesExpected:Yes\n",
      "{'Yes': 0.3226337448559671, 'No': 0.6272000000000001}\n",
      "classification:NoExpected:No\n",
      "{'Yes': 0.7259259259259256, 'No': 0.11760000000000002}\n",
      "classification:YesExpected:Yes\n",
      "{'Yes': 0.9679012345679012, 'No': 0.10453333333333338}\n",
      "classification:YesExpected:Yes\n",
      "{'Yes': 0.43017832647462273, 'No': 0.31360000000000005}\n",
      "classification:YesExpected:Yes\n",
      "{'Yes': 0.5377229080932785, 'No': 0.0}\n",
      "classification:YesExpected:Yes\n",
      "{'Yes': 1.2098765432098766, 'No': 0.0}\n",
      "classification:YesExpected:Yes\n",
      "{'Yes': 0.3226337448559671, 'No': 0.8362666666666669}\n",
      "classification:NoExpected:No\n",
      "Misclassification_count=1\n",
      "Misclassification_rate=7.142857142857143%\n",
      "Accuracy=92.85714285714286%\n"
     ]
    }
   ],
   "source": [
    "import pandas as pd\n",
    "df=pd.read_csv('../Datasets/PlayTennis.csv')\n",
    "concept=str(list(df)[-1])\n",
    "concept_list=set(df[concept])\n",
    "Attr={}\n",
    "for a in df.columns[:-1]:\n",
    "    Attr[a]=set(df[a])\n",
    "    print(f\"{a}:{Attr[a]}\")\n",
    "conceptProbs,AttrConcept,probability_list=train(df,Attr,concept_list,concept)\n",
    "examples=pd.read_csv('../Datasets/PlayTennis.csv')\n",
    "test(examples.values,Attr,concept_list,conceptProbs,AttrConcept,probability_list)"
   ]
  }
 ],
 "metadata": {
  "kernelspec": {
   "display_name": "Python 3",
   "language": "python",
   "name": "python3"
  },
  "language_info": {
   "codemirror_mode": {
    "name": "ipython",
    "version": 3
   },
   "file_extension": ".py",
   "mimetype": "text/x-python",
   "name": "python",
   "nbconvert_exporter": "python",
   "pygments_lexer": "ipython3",
   "version": "3.8.8"
  }
 },
 "nbformat": 4,
 "nbformat_minor": 5
}
