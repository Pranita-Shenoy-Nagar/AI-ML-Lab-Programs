{
 "cells": [
  {
   "cell_type": "code",
   "execution_count": 1,
   "id": "df8b7de3",
   "metadata": {},
   "outputs": [],
   "source": [
    "def infoGain(P,N):\n",
    "    import math \n",
    "    return -P / (P + N) * math.log2(P / (P + N)) - N /(P + N) * math.log2(N / (P + N))"
   ]
  },
  {
   "cell_type": "code",
   "execution_count": 2,
   "id": "2de42d90",
   "metadata": {},
   "outputs": [],
   "source": [
    "def insertNode(tree,addTo,Node):\n",
    "    for k,v in tree.items():\n",
    "        if isinstance(v,dict):\n",
    "            tree[k] = insertNode(v,addTo,Node)\n",
    "    if addTo in tree:\n",
    "        if isinstance(tree[addTo],dict):\n",
    "            tree[addTo][Node] = 'None'\n",
    "        else:\n",
    "            tree[addTo] = {Node:'None'}\n",
    "    return tree"
   ]
  },
  {
   "cell_type": "code",
   "execution_count": 3,
   "id": "1ac25b77",
   "metadata": {},
   "outputs": [],
   "source": [
    "def insertConcept(tree,addTo,Node):\n",
    "    for k,v in tree.items():\n",
    "        if isinstance(v,dict):\n",
    "            tree[k] = insertConcept(v,addTo,Node)\n",
    "    if addTo in tree:\n",
    "        tree[addTo] = Node\n",
    "    return tree"
   ]
  },
  {
   "cell_type": "code",
   "execution_count": 4,
   "id": "381af37d",
   "metadata": {},
   "outputs": [],
   "source": [
    "def getNextNode(data,AttributeList,concept,conceptVals,tree,addTo):\n",
    "    Total = data.shape[0]\n",
    "    if Total == 0:\n",
    "        return tree\n",
    "    countC = {}\n",
    "    for cVal in conceptVals:\n",
    "        dataCC = data[data[concept] == cVal]\n",
    "        countC[cVal] = dataCC.shape[0]\n",
    "    if countC[conceptVals[0]] == 0:\n",
    "        tree = insertConcept(tree,addTo,conceptVals[1])\n",
    "        return tree\n",
    "    if countC[conceptVals[1]] == 0:\n",
    "        tree = insertConcept(tree,addTo,conceptVals[0])\n",
    "        return tree\n",
    "    ClassEntropy = infoGain(countC[conceptVals[0]],countC[conceptVals[1]])\n",
    "    Attr = {}\n",
    "    for a in AttributeList:\n",
    "        Attr[a] = list(set(data[a]))\n",
    "    AttrCount = {}\n",
    "    EntropyAttr = {}\n",
    "    for att in Attr:\n",
    "        for vals in Attr[att]:\n",
    "            for c in conceptVals:\n",
    "                iData = data[data[att] == vals]\n",
    "                dataAtt = iData[iData[concept] == c]\n",
    "                AttrCount[c] = dataAtt.shape[0]\n",
    "            TotalInfo = AttrCount[conceptVals[0]] + AttrCount[conceptVals[1]]\n",
    "            if AttrCount[conceptVals[0]] == 0 or AttrCount[conceptVals[1]] == 0:\n",
    "                InfoGain = 0\n",
    "            else:\n",
    "                InfoGain = infoGain(AttrCount[conceptVals[0]],AttrCount[conceptVals[1]])\n",
    "            if att not in EntropyAttr:\n",
    "                EntropyAttr[att] = (TotalInfo/Total) * InfoGain\n",
    "            else:\n",
    "                EntropyAttr[att] = EntropyAttr[att] + (TotalInfo/Total) * InfoGain\n",
    "    Gain = {}\n",
    "    for g in EntropyAttr:\n",
    "        Gain[g] = ClassEntropy - EntropyAttr[g]\n",
    "    Node = max(Gain,key=Gain.get)\n",
    "    tree = insertNode(tree,addTo,Node)\n",
    "    for nD in Attr[Node]:\n",
    "        tree = insertNode(tree,Node,nD)\n",
    "        newData = data[data[Node] == nD].drop(Node,axis=1)\n",
    "        AttributeList = list(newData)[:-1]\n",
    "        tree = getNextNode(newData,AttributeList,concept,conceptVals,tree,nD)\n",
    "    return tree"
   ]
  },
  {
   "cell_type": "code",
   "execution_count": 5,
   "id": "c9e8c774",
   "metadata": {},
   "outputs": [],
   "source": [
    "import pandas as pd\n",
    "def main():\n",
    "    data = pd.read_csv('Datasets/PlayTennis.csv')\n",
    "    AttributeList = list(data)[:-1]\n",
    "    concept = str(list(data)[-1])\n",
    "    conceptVals = list(set(data[concept]))\n",
    "    tree = getNextNode(data,AttributeList,concept,conceptVals,{'root':'None'},'root')\n",
    "    return tree"
   ]
  },
  {
   "cell_type": "code",
   "execution_count": 6,
   "id": "e32f5de2",
   "metadata": {},
   "outputs": [],
   "source": [
    "tree = main()['root']"
   ]
  },
  {
   "cell_type": "code",
   "execution_count": 7,
   "id": "aacfcf90",
   "metadata": {},
   "outputs": [],
   "source": [
    "df = pd.read_csv('Datasets/PlayTennis_test1.csv')\n",
    "def test(tree,d):\n",
    "    for k in tree:\n",
    "        for v in tree[k]:\n",
    "            if(d[k] == v and isinstance(tree[k][v],dict)):\n",
    "                test(tree[k][v],d)\n",
    "            elif(d[k] == v):\n",
    "                print(\"Classification:\" + tree[k][v])"
   ]
  },
  {
   "cell_type": "code",
   "execution_count": 8,
   "id": "4965e4d1",
   "metadata": {},
   "outputs": [
    {
     "name": "stdout",
     "output_type": "stream",
     "text": [
      "{'Outlook': {'Overcast': 'Yes', 'Sunny': {'Humidity': {'High': 'No', 'Normal': 'Yes'}}, 'Rain': {'Wind': {'Strong': 'No', 'Weak': 'Yes'}}}}\n"
     ]
    }
   ],
   "source": [
    "print(tree)"
   ]
  },
  {
   "cell_type": "code",
   "execution_count": 9,
   "id": "fca736ba",
   "metadata": {},
   "outputs": [
    {
     "name": "stdout",
     "output_type": "stream",
     "text": [
      "Classification:No\n"
     ]
    }
   ],
   "source": [
    "test(tree,df.loc[0, :])"
   ]
  },
  {
   "cell_type": "code",
   "execution_count": null,
   "id": "523f6641",
   "metadata": {},
   "outputs": [],
   "source": []
  }
 ],
 "metadata": {
  "kernelspec": {
   "display_name": "Python 3",
   "language": "python",
   "name": "python3"
  },
  "language_info": {
   "codemirror_mode": {
    "name": "ipython",
    "version": 3
   },
   "file_extension": ".py",
   "mimetype": "text/x-python",
   "name": "python",
   "nbconvert_exporter": "python",
   "pygments_lexer": "ipython3",
   "version": "3.8.8"
  }
 },
 "nbformat": 4,
 "nbformat_minor": 5
}
