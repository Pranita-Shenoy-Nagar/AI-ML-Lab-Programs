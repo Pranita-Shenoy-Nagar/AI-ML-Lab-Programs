{
 "cells": [
  {
   "cell_type": "code",
   "execution_count": 1,
   "id": "77691bf8",
   "metadata": {},
   "outputs": [],
   "source": [
    "import numpy as np\n",
    "X=np.array(([2,9],[1,5],[3,6]),dtype=float)\n",
    "y=np.array(([92],[86],[89]),dtype=float)\n",
    "X=X/np.amax(X,axis=0)\n",
    "y=y/100;"
   ]
  },
  {
   "cell_type": "code",
   "execution_count": 2,
   "id": "f413db36",
   "metadata": {},
   "outputs": [],
   "source": [
    "def sigmoid(x):\n",
    "    return 1/(1+np.exp(-x))\n",
    "def derivatives_sigmoid(x):\n",
    "    return (1-x)"
   ]
  },
  {
   "cell_type": "code",
   "execution_count": 3,
   "id": "5572c3b6",
   "metadata": {},
   "outputs": [],
   "source": [
    "epoch=1000\n",
    "learning_rate=0.6\n",
    "inputlayer_neurons=2\n",
    "hiddenlayer_neurons=3\n",
    "output_neurons=1"
   ]
  },
  {
   "cell_type": "code",
   "execution_count": 4,
   "id": "be4362f2",
   "metadata": {},
   "outputs": [],
   "source": [
    "wh=np.random.uniform(size=(inputlayer_neurons,hiddenlayer_neurons))\n",
    "bh=np.random.uniform(size=(1,hiddenlayer_neurons))\n",
    "wo=np.random.uniform(size=(hiddenlayer_neurons,output_neurons))\n",
    "bo=np.random.uniform(size=(1,output_neurons))"
   ]
  },
  {
   "cell_type": "code",
   "execution_count": 5,
   "id": "fcf59251",
   "metadata": {},
   "outputs": [],
   "source": [
    "for i in range(epoch):\n",
    "    net_h=np.dot(X,wh)+bh\n",
    "    sigma_h=sigmoid(net_h)\n",
    "    net_o=np.dot(sigma_h,wo)+bo\n",
    "    output=sigmoid(net_o)\n",
    "    #backpropagation\n",
    "    DeltaK=(y-output)*derivatives_sigmoid(output)\n",
    "    DeltaH=DeltaK.dot(wo.T)*derivatives_sigmoid(sigma_h)\n",
    "    wo=wo+sigma_h.T.dot(DeltaH)*learning_rate\n",
    "    wh=wh+X.T.dot(DeltaH)*learning_rate"
   ]
  },
  {
   "cell_type": "code",
   "execution_count": 6,
   "id": "8c9997e2",
   "metadata": {},
   "outputs": [
    {
     "name": "stdout",
     "output_type": "stream",
     "text": [
      "Input: \n",
      " [[0.66666667 1.        ]\n",
      " [0.33333333 0.55555556]\n",
      " [1.         0.66666667]]\n",
      "Actual Output: \n",
      " [[0.92]\n",
      " [0.86]\n",
      " [0.89]]\n",
      "Predicted Output: \n",
      " [[0.85087044 0.8852169  0.96526757]\n",
      " [0.82988471 0.86381805 0.95093086]\n",
      " [0.85031075 0.88457021 0.9647784 ]]\n"
     ]
    }
   ],
   "source": [
    "print(f\"Input: \\n {X}\")\n",
    "print(f\"Actual Output: \\n {y}\")\n",
    "print(f\"Predicted Output: \\n {output}\")"
   ]
  }
 ],
 "metadata": {
  "kernelspec": {
   "display_name": "Python 3",
   "language": "python",
   "name": "python3"
  },
  "language_info": {
   "codemirror_mode": {
    "name": "ipython",
    "version": 3
   },
   "file_extension": ".py",
   "mimetype": "text/x-python",
   "name": "python",
   "nbconvert_exporter": "python",
   "pygments_lexer": "ipython3",
   "version": "3.8.8"
  }
 },
 "nbformat": 4,
 "nbformat_minor": 5
}
